{
 "cells": [
  {
   "cell_type": "code",
   "execution_count": null,
   "metadata": {},
   "outputs": [],
   "source": []
  },
  {
   "cell_type": "code",
   "execution_count": 12,
   "metadata": {},
   "outputs": [
    {
     "name": "stdout",
     "output_type": "stream",
     "text": [
      "Tablolar: [('chat_histories',)]\n"
     ]
    },
    {
     "data": {
      "text/html": [
       "<div>\n",
       "<style scoped>\n",
       "    .dataframe tbody tr th:only-of-type {\n",
       "        vertical-align: middle;\n",
       "    }\n",
       "\n",
       "    .dataframe tbody tr th {\n",
       "        vertical-align: top;\n",
       "    }\n",
       "\n",
       "    .dataframe thead th {\n",
       "        text-align: right;\n",
       "    }\n",
       "</style>\n",
       "<table border=\"1\" class=\"dataframe\">\n",
       "  <thead>\n",
       "    <tr style=\"text-align: right;\">\n",
       "      <th></th>\n",
       "      <th>id</th>\n",
       "      <th>title</th>\n",
       "      <th>messages</th>\n",
       "      <th>messages_hash</th>\n",
       "      <th>timestamp</th>\n",
       "    </tr>\n",
       "  </thead>\n",
       "  <tbody>\n",
       "    <tr>\n",
       "      <th>0</th>\n",
       "      <td>1</td>\n",
       "      <td>chat-3ccf8689</td>\n",
       "      <td>[{\"type\": \"user\", \"content\": \"\\u00e7\\u00f6z\", ...</td>\n",
       "      <td>df65c01242ce1b5ac8fec96adac9fc5869548a69591010...</td>\n",
       "      <td>2024-10-27 19:43:39</td>\n",
       "    </tr>\n",
       "    <tr>\n",
       "      <th>1</th>\n",
       "      <td>2</td>\n",
       "      <td>chat-5f4fd574</td>\n",
       "      <td>[{\"type\": \"user\", \"content\": \"\\u00e7\\u00f6z ub...</td>\n",
       "      <td>fc05760d2b4b4fc360579294278dfccb4310c064f7c0cc...</td>\n",
       "      <td>2024-10-27 19:56:00</td>\n",
       "    </tr>\n",
       "    <tr>\n",
       "      <th>2</th>\n",
       "      <td>3</td>\n",
       "      <td>chat-7ca09eac</td>\n",
       "      <td>[{\"type\": \"user\", \"content\": \"aa\", \"image\": \"d...</td>\n",
       "      <td>8e9d34670684b708556480b434cf7595b3cfd89f5c8bde...</td>\n",
       "      <td>2024-10-27 19:57:39</td>\n",
       "    </tr>\n",
       "  </tbody>\n",
       "</table>\n",
       "</div>"
      ],
      "text/plain": [
       "   id          title                                           messages  \\\n",
       "0   1  chat-3ccf8689  [{\"type\": \"user\", \"content\": \"\\u00e7\\u00f6z\", ...   \n",
       "1   2  chat-5f4fd574  [{\"type\": \"user\", \"content\": \"\\u00e7\\u00f6z ub...   \n",
       "2   3  chat-7ca09eac  [{\"type\": \"user\", \"content\": \"aa\", \"image\": \"d...   \n",
       "\n",
       "                                       messages_hash            timestamp  \n",
       "0  df65c01242ce1b5ac8fec96adac9fc5869548a69591010...  2024-10-27 19:43:39  \n",
       "1  fc05760d2b4b4fc360579294278dfccb4310c064f7c0cc...  2024-10-27 19:56:00  \n",
       "2  8e9d34670684b708556480b434cf7595b3cfd89f5c8bde...  2024-10-27 19:57:39  "
      ]
     },
     "execution_count": 12,
     "metadata": {},
     "output_type": "execute_result"
    }
   ],
   "source": [
    "import sqlite3\n",
    "import pandas as pd\n",
    "\n",
    "import json\n",
    "conn = sqlite3.connect('chat_history.db')\n",
    "\n",
    "tables = conn.execute(\"SELECT name FROM sqlite_master WHERE type='table';\").fetchall()\n",
    "print(\"Tablolar:\", tables)\n",
    "\n",
    "\n",
    "df = pd.read_sql_query(\"SELECT * FROM chat_histories\", conn)\n",
    "\n",
    "\n",
    "conn.close()\n",
    "\n",
    "\n",
    "\n",
    "import json\n",
    "import base64\n",
    "from PIL import Image\n",
    "from io import BytesIO\n",
    "def process_chat_history(id):\n",
    "    data=df[df['id']==id]\n",
    "    chat_data=eval(data.messages.iloc[0])\n",
    "    messages=\"\"\n",
    "    images=[]\n",
    "    for message in chat_data:\n",
    "        if 'image' in message:\n",
    "\n",
    "            base64_image = message['image'].split(\",\")[1]\n",
    "            image_data = base64.b64decode(base64_image)\n",
    "            \n",
    "\n",
    "            image = Image.open(BytesIO(image_data))\n",
    "            images.append(image)\n",
    "        messages+=f\"{message['type']}: {message['content']}\"\n",
    "\n",
    "return messages,images\n"
   ]
  },
  {
   "cell_type": "code",
   "execution_count": 5,
   "metadata": {},
   "outputs": [
    {
     "data": {
      "text/plain": [
       "'[{\"type\": \"user\", \"content\": \"\\\\u00e7\\\\u00f6z\", \"image\": \"data:image/png;base64,iVBORw0KGgoAAAANSUhEUgAAAMgAAABXCAYAAABBaAoIAAAAAXNSR0IArs4c6QAAAARnQU1BAACxjwv8YQUAAAAJcEhZcwAAEnQAABJ0Ad5mH3gAAAm5SURBVHhe7ZwJbE3PF8fHvhRVWy1VpBKxlkRqS9rY6kfsSyxp7IrETlIRRCOorUjFvibEkthK7IIQRdMittj3XWqnKPOfczqvfa3Xo63fz2ve//tJbubdM/Pm3XvNd+acM1fzaYMCALgkvy0BAC6AQAAQgEAAEIBAABCAQAAQgEAAEIBAABCAQAAQgEAAEIBAABCAQAAQgEAAEIBAABCAQAAQgEAAEIBAABCAQAAQgEAAEIBAABCAQAAQgEAAEIBAABCAQAAQgEAAEIBAABCAQEC2oT/C+e3bN3v2/4Fb//Tohw8f1IULF9Tz589ViRIlVIMGDZSfn5+t/XskJyerly9fqooVK6rChQtb67/Dw4cPlY+PjypZsqS1/Ardf2JiIj+P8uXLq6CgIH4eeYW4uDi1Zs0aLj99+qT8/f1Vz5491dChQ5WXl5dt5aGQQP42ZhbSS5Ys0ZUrVyZxph1mcOiYmBjb6u9w6NAh3bhxY+3t7a337dtnrX/OzZs3dffu3XWpUqX01KlTrfVXli9frsuUKZPhOdStW1efOHHCtnAvd+/e1QUKFNBFihTRoaGhukOHDnxPdJ302QjGtvRM3CIQs2rwAw4JCdFr167Ve/fu1SNHjkwbIHT+X2NWDB0eHp72m3Rs2bLF1uaer1+/6sWLF/OAcvRL9+YK+j2qr1Gjht68ebM+efKknjZtGttosrh9+7Zt6T6ePn2qFyxYoB89emQtqbYWLVrwda5YscJaPRO3CMS4FPrgwYP2LJ2wsDB+6P369bOW3PHu3Tu9aNEiHR8fby0ZoVmvXr16On/+/HrZsmV62LBh/Lvbt2+3LXKPQ3RjxozR0dHR/HnUqFG2Nh3jTumaNWuykK5evWqtqUyaNIm/FxERYS15jz179vA19ujRw1o8E7cE6b6+vqpdu3b2LJ1WrVpx+fr1ay4J8s1PnTqlvn//bi2pfP78WR0/flyZWdZa0rl3754aP3682rVrl7VkJCUlRRn3h/s2s7sYH+SUOnXqqB07dijjQqqAgABr/ZWEhAS+9vbt2/N3nDETBJdHjhzhMrvcv39fHTt2jOOpzJw7d06dP3/env05FIcQb9++5dJTyVNZrDdv3nBZrlw5LonVq1er4OBgNWvWLGtJZdy4cSwoGmiZyZcvH5eFChXiMjPGh1aRkZEqMDCQzzOLz5kbN26w0Ex88sthXEE+Xrx4YVsrNXbsWBYf8eXLFy5dcenSJS6bNGnCpTM0+ChYpwGflJRkrb/n4sWLqk2bNhxAO9/Tzp07VdOmTZVxh/j8zp074j3FxsZy4kDi+vXrXJpVkEuPxa4keYLWrVvzsk1xiYPHjx9zMG8GO8cuxOHDh7ldly5d9I8fP9jmjBnUXG9EZS0yo0eP5vauXKzhw4dznXSsW7fOts7I1q1bud6VizVlyhSuc75XB8nJydqsKuwCUrCfXX7+/MkuD/W7cOFCtr169Ur7+fnpsmXL8rMkJkyYkHbtWR2UPHDF+/fv9ZkzZ3S1atW43enTp22NZ5JnBGJmL37gtWrV0mbZttZUtm3bxnXGLeP4pXbt2pxJMa4U15NIKNtCvvytW7fS/GMamGa21Ga209euXWO/3xWSQGiAUrwkHWYFsa0zIglkxIgRXLdx40ZryUhQUBDXZ45PfseDBw+0WYG1cRv5s3E1uZ9NmzbZFpqfiav7cD7oOWfGrI6cUKD+KPOW1cTgSeQJgTx58kRXr15dG9eI066u6NWrF//DNGrUiEvn7AllVSjrQ/bMB/Xp+JzVrCgJ5E/IrUBoJXAIhISdU4xbyt+lRAStvN26dbM1f4Zx07hfSmw4Z7U8GbfHIB8/flRhYWHsb0dFRanQ0FBbk5H58+dz7EAbi82aNVPG9bE1Snl7e6vp06er2bNnczuKAwjyx+l8zpw5XEffyymUDHj27BnHGVkdUgyTFaVLl+bS1c402WjTkDYtixcvbq3ZhzbwWrZsqa5cuaIKFiyo5s6da2tS+d09Ufzh6rpo87JYsWJq8ODBbtnQdQtWKG6BNgxpdqPLIFdAgmZjx2pQoUIFcWYl14vamYFhLTLSCuJwUWizzAy2DAfZKE6gPQxXSCsI7S1QXWRkpLWkQ3GDj4+PrlKlijaD2Vqzj5lsdNWqVbl/OjLvVdDGpXRP9JzXr19vW6dDex+0ImXlqnoibltBzG+r8PBwzqZQqjU6OtrW/IpxoZQZZMq4DComJobTmHRuXBHbIiMmkORSyiI548h6OUpnaBUyQa2aOHEil66O+vXr29YZkfo1cRSX8fHxXDpj4h7O6Bl3kmfsnELPxrhAatWqVcqITEVERCgTo9lapUJCQvi6Xd2Tw9awYUPbOh1KXR84cCBPvQbzn5Oqk7+LcUnSZm3yxX9Hnz59uG1sbCyfd+3alc/JF3aFY6d+8uTJ1iJjBkSG/v8tdu/ezf26Wh1plfD19eWNQkd2zkHv3r35e1mtTBI089N3acOSMCLh886dO/P5n0DZwbi4OG0mHmvxfNwiEHJl6B+NDnq/h1KTnTp14qNjx458nD17lttSEEvtnANNyiwZ31yb2VVfvnzZWtOhwUfiyOp9Jsp6zZgxg4U3aNCgtMxM8+bNdf/+/dnmyJDlFMoW0QAfOHCgNjEP90v9DxgwQPft25dT1A5ot5/qKQ1Lu+4bNmzg97fI1rZtW35tJSfQAPby8mIX1JGFoskoODiY+ySx5BbKLDrctv3791ur5+M2gQQEBPCrFpUqVeIMVObDLOXcll6ICwwM5DSuM0uXLtX+/v565syZ1pJ9UlJSeADS3gClRKkfuhbabyEbXVNCQoJtnTPo9RBHv9Qf9Uv90zkdK1eutC1TmTdvHttp4NFBPv6QIUN0UlKSbZF9oqKieH+CYh9nEhMTOTX+zz//5CqmIej1HUrB0zUePXrUWj0ft7zuTj/piA8y++eOyyHfm+ooy2XcEJe74vTqtQmSc+WnU+aJMjX0G87XQL9PfRYtWtRacoZZnfj1eVf9Eo77coZeraEsHr0CQzGDmaltTc6gZ0q/4yrzZVYjvmeqo/vLDfQKD8VG9AaCCeat1bNx6/8HASCvk6fexQIgrwGBACAAgQAgAIEAIACBACAAgQAgAIEAIACBACAAgQAgAIEAIACBACAAgQAgAIEAIACBACAAgQAgAIEAIACBACAAgQAgAIEAIACBACAAgQAgAIEAIACBACAAgQAgAIEAIACBACAAgQAgAIEAIACBACAAgQAgAIEAIACBACAAgQAgAIEAIACBACAAgQAgAIEAIACBACAAgQAgAIEAIACBACAAgQAgAIEAkCVK/Q98UH6wNgTaVQAAAABJRU5ErkJggg==\", \"timestamp\": \"2024-10-27T19:43:23.662Z\"}, {\"type\": \"assistant\", \"content\": \"Here\\'s how to solve the equation:\\\\n\\\\n1. **Subtract 1 from both sides:** \\\\n   2x + 1 - 1 = 10 - 1\\\\n   This simplifies to: 2x = 9\\\\n\\\\n2. **Divide both sides by 2:**\\\\n   2x / 2 = 9 / 2\\\\n   This gives you: x = 4.5\\\\n\\\\n**Therefore, x = 4.5** \\\\n\", \"timestamp\": \"2024-10-27T19:43:23.680Z\"}]'"
      ]
     },
     "execution_count": 5,
     "metadata": {},
     "output_type": "execute_result"
    }
   ],
   "source": [
    "df.messages.iloc[0]"
   ]
  },
  {
   "cell_type": "code",
   "execution_count": 22,
   "metadata": {},
   "outputs": [],
   "source": [
    "\n",
    "        "
   ]
  },
  {
   "cell_type": "code",
   "execution_count": 23,
   "metadata": {},
   "outputs": [
    {
     "name": "stdout",
     "output_type": "stream",
     "text": [
      "user: çöz\n",
      "assistant: Here's how to solve the equation:\n",
      "\n",
      "1. **Subtract 1 from both sides:** \n",
      "   2x + 1 - 1 = 10 - 1\n",
      "   This simplifies to: 2x = 9\n",
      "\n",
      "2. **Divide both sides by 2:**\n",
      "   2x / 2 = 9 / 2\n",
      "   This gives you: x = 4.5\n",
      "\n",
      "**Therefore, x = 4.5** \n",
      "\n"
     ]
    }
   ],
   "source": [
    "process_chat_history(eval(df.messages.iloc[0]))"
   ]
  },
  {
   "cell_type": "code",
   "execution_count": 18,
   "metadata": {},
   "outputs": [
    {
     "data": {
      "text/plain": [
       "'\"[{\\\\\"type\\\\\": \\\\\"user\\\\\", \\\\\"content\\\\\": \\\\\"\\\\\\\\u00e7\\\\\\\\u00f6z\\\\\", \\\\\"image\\\\\": \\\\\"data:image/png;base64,iVBORw0KGgoAAAANSUhEUgAAAMgAAABXCAYAAABBaAoIAAAAAXNSR0IArs4c6QAAAARnQU1BAACxjwv8YQUAAAAJcEhZcwAAEnQAABJ0Ad5mH3gAAAm5SURBVHhe7ZwJbE3PF8fHvhRVWy1VpBKxlkRqS9rY6kfsSyxp7IrETlIRRCOorUjFvibEkthK7IIQRdMittj3XWqnKPOfczqvfa3Xo63fz2ve//tJbubdM/Pm3XvNd+acM1fzaYMCALgkvy0BAC6AQAAQgEAAEIBAABCAQAAQgEAAEIBAABCAQAAQgEAAEIBAABCAQAAQgEAAEIBAABCAQAAQgEAAEIBAABCAQAAQgEAAEIBAABCAQAAQgEAAEIBAABCAQAAQgEAAEIBAABCAQEC2oT/C+e3bN3v2/4Fb//Tohw8f1IULF9Tz589ViRIlVIMGDZSfn5+t/XskJyerly9fqooVK6rChQtb67/Dw4cPlY+PjypZsqS1/Ardf2JiIj+P8uXLq6CgIH4eeYW4uDi1Zs0aLj99+qT8/f1Vz5491dChQ5WXl5dt5aGQQP42ZhbSS5Ys0ZUrVyZxph1mcOiYmBjb6u9w6NAh3bhxY+3t7a337dtnrX/OzZs3dffu3XWpUqX01KlTrfVXli9frsuUKZPhOdStW1efOHHCtnAvd+/e1QUKFNBFihTRoaGhukOHDnxPdJ302QjGtvRM3CIQs2rwAw4JCdFr167Ve/fu1SNHjkwbIHT+X2NWDB0eHp72m3Rs2bLF1uaer1+/6sWLF/OAcvRL9+YK+j2qr1Gjht68ebM+efKknjZtGttosrh9+7Zt6T6ePn2qFyxYoB89emQtqbYWLVrwda5YscJaPRO3CMS4FPrgwYP2LJ2wsDB+6P369bOW3PHu3Tu9aNEiHR8fby0ZoVmvXr16On/+/HrZsmV62LBh/Lvbt2+3LXKPQ3RjxozR0dHR/HnUqFG2Nh3jTumaNWuykK5evWqtqUyaNIm/FxERYS15jz179vA19ujRw1o8E7cE6b6+vqpdu3b2LJ1WrVpx+fr1ay4J8s1PnTqlvn//bi2pfP78WR0/flyZWdZa0rl3754aP3682rVrl7VkJCUlRRn3h/s2s7sYH+SUOnXqqB07dijjQqqAgABr/ZWEhAS+9vbt2/N3nDETBJdHjhzhMrvcv39fHTt2jOOpzJw7d06dP3/env05FIcQb9++5dJTyVNZrDdv3nBZrlw5LonVq1er4OBgNWvWLGtJZdy4cSwoGmiZyZcvH5eFChXiMjPGh1aRkZEqMDCQzzOLz5kbN26w0Ex88sthXEE+Xrx4YVsrNXbsWBYf8eXLFy5dcenSJS6bNGnCpTM0+ChYpwGflJRkrb/n4sWLqk2bNhxAO9/Tzp07VdOmTZVxh/j8zp074j3FxsZy4kDi+vXrXJpVkEuPxa4keYLWrVvzsk1xiYPHjx9zMG8GO8cuxOHDh7ldly5d9I8fP9jmjBnUXG9EZS0yo0eP5vauXKzhw4dznXSsW7fOts7I1q1bud6VizVlyhSuc75XB8nJydqsKuwCUrCfXX7+/MkuD/W7cOFCtr169Ur7+fnpsmXL8rMkJkyYkHbtWR2UPHDF+/fv9ZkzZ3S1atW43enTp22NZ5JnBGJmL37gtWrV0mbZttZUtm3bxnXGLeP4pXbt2pxJMa4U15NIKNtCvvytW7fS/GMamGa21Ga209euXWO/3xWSQGiAUrwkHWYFsa0zIglkxIgRXLdx40ZryUhQUBDXZ45PfseDBw+0WYG1cRv5s3E1uZ9NmzbZFpqfiav7cD7oOWfGrI6cUKD+KPOW1cTgSeQJgTx58kRXr15dG9eI066u6NWrF//DNGrUiEvn7AllVSjrQ/bMB/Xp+JzVrCgJ5E/IrUBoJXAIhISdU4xbyt+lRAStvN26dbM1f4Zx07hfSmw4Z7U8GbfHIB8/flRhYWHsb0dFRanQ0FBbk5H58+dz7EAbi82aNVPG9bE1Snl7e6vp06er2bNnczuKAwjyx+l8zpw5XEffyymUDHj27BnHGVkdUgyTFaVLl+bS1c402WjTkDYtixcvbq3ZhzbwWrZsqa5cuaIKFiyo5s6da2tS+d09Ufzh6rpo87JYsWJq8ODBbtnQdQtWKG6BNgxpdqPLIFdAgmZjx2pQoUIFcWYl14vamYFhLTLSCuJwUWizzAy2DAfZKE6gPQxXSCsI7S1QXWRkpLWkQ3GDj4+PrlKlijaD2Vqzj5lsdNWqVbl/OjLvVdDGpXRP9JzXr19vW6dDex+0ImXlqnoibltBzG+r8PBwzqZQqjU6OtrW/IpxoZQZZMq4DComJobTmHRuXBHbIiMmkORSyiI548h6OUpnaBUyQa2aOHEil66O+vXr29YZkfo1cRSX8fHxXDpj4h7O6Bl3kmfsnELPxrhAatWqVcqITEVERCgTo9lapUJCQvi6Xd2Tw9awYUPbOh1KXR84cCBPvQbzn5Oqk7+LcUnSZm3yxX9Hnz59uG1sbCyfd+3alc/JF3aFY6d+8uTJ1iJjBkSG/v8tdu/ezf26Wh1plfD19eWNQkd2zkHv3r35e1mtTBI089N3acOSMCLh886dO/P5n0DZwbi4OG0mHmvxfNwiEHJl6B+NDnq/h1KTnTp14qNjx458nD17lttSEEvtnANNyiwZ31yb2VVfvnzZWtOhwUfiyOp9Jsp6zZgxg4U3aNCgtMxM8+bNdf/+/dnmyJDlFMoW0QAfOHCgNjEP90v9DxgwQPft25dT1A5ot5/qKQ1Lu+4bNmzg97fI1rZtW35tJSfQAPby8mIX1JGFoskoODiY+ySx5BbKLDrctv3791ur5+M2gQQEBPCrFpUqVeIMVObDLOXcll6ICwwM5DSuM0uXLtX+/v565syZ1pJ9UlJSeADS3gClRKkfuhbabyEbXVNCQoJtnTPo9RBHv9Qf9Uv90zkdK1eutC1TmTdvHttp4NFBPv6QIUN0UlKSbZF9oqKieH+CYh9nEhMTOTX+zz//5CqmIej1HUrB0zUePXrUWj0ft7zuTj/piA8y++eOyyHfm+ooy2XcEJe74vTqtQmSc+WnU+aJMjX0G87XQL9PfRYtWtRacoZZnfj1eVf9Eo77coZeraEsHr0CQzGDmaltTc6gZ0q/4yrzZVYjvmeqo/vLDfQKD8VG9AaCCeat1bNx6/8HASCvk6fexQIgrwGBACAAgQAgAIEAIACBACAAgQAgAIEAIACBACAAgQAgAIEAIACBACAAgQAgAIEAIACBACAAgQAgAIEAIACBACAAgQAgAIEAIACBACAAgQAgAIEAIACBACAAgQAgAIEAIACBACAAgQAgAIEAIACBACAAgQAgAIEAIACBACAAgQAgAIEAIACBACAAgQAgAIEAIACBACAAgQAgAIEAIACBACAAgQAgAIEAkCVK/Q98UH6wNgTaVQAAAABJRU5ErkJggg==\\\\\", \\\\\"timestamp\\\\\": \\\\\"2024-10-27T19:43:23.662Z\\\\\"}, {\\\\\"type\\\\\": \\\\\"assistant\\\\\", \\\\\"content\\\\\": \\\\\"Here\\'s how to solve the equation:\\\\\\\\n\\\\\\\\n1. **Subtract 1 from both sides:** \\\\\\\\n   2x + 1 - 1 = 10 - 1\\\\\\\\n   This simplifies to: 2x = 9\\\\\\\\n\\\\\\\\n2. **Divide both sides by 2:**\\\\\\\\n   2x / 2 = 9 / 2\\\\\\\\n   This gives you: x = 4.5\\\\\\\\n\\\\\\\\n**Therefore, x = 4.5** \\\\\\\\n\\\\\", \\\\\"timestamp\\\\\": \\\\\"2024-10-27T19:43:23.680Z\\\\\"}]\"'"
      ]
     },
     "execution_count": 18,
     "metadata": {},
     "output_type": "execute_result"
    }
   ],
   "source": [
    "json.loads(json.dumps(df.messages.iloc[0]))"
   ]
  },
  {
   "cell_type": "code",
   "execution_count": 20,
   "metadata": {},
   "outputs": [
    {
     "data": {
      "text/plain": [
       "[{'type': 'user',\n",
       "  'content': 'çöz',\n",
       "  'image': 'data:image/png;base64,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',\n",
       "  'timestamp': '2024-10-27T19:43:23.662Z'},\n",
       " {'type': 'assistant',\n",
       "  'content': \"Here's how to solve the equation:\\n\\n1. **Subtract 1 from both sides:** \\n   2x + 1 - 1 = 10 - 1\\n   This simplifies to: 2x = 9\\n\\n2. **Divide both sides by 2:**\\n   2x / 2 = 9 / 2\\n   This gives you: x = 4.5\\n\\n**Therefore, x = 4.5** \\n\",\n",
       "  'timestamp': '2024-10-27T19:43:23.680Z'}]"
      ]
     },
     "execution_count": 20,
     "metadata": {},
     "output_type": "execute_result"
    }
   ],
   "source": [
    "eval(df.messages.iloc[0])"
   ]
  },
  {
   "cell_type": "code",
   "execution_count": 26,
   "metadata": {},
   "outputs": [],
   "source": [
    "import sqlite3\n",
    "import json\n",
    "import base64\n",
    "from PIL import Image\n",
    "from io import BytesIO\n",
    "from typing import Tuple, List, Dict\n",
    "from pathlib import Path\n",
    "from contextlib import contextmanager\n",
    "\n",
    "\n",
    "class ChatDatabase:\n",
    "    \n",
    "    def __init__(self, db_path: str = 'chat_history.db'):\n",
    "        self.db_path = Path(db_path)\n",
    "    \n",
    "    @contextmanager\n",
    "    def connect(self):\n",
    "        \"\"\"Veritabanı bağlantısı için context manager.\"\"\"\n",
    "        conn = None\n",
    "        try:\n",
    "            conn = sqlite3.connect(self.db_path)\n",
    "            yield conn\n",
    "        finally:\n",
    "            if conn:\n",
    "                conn.close()\n",
    "    \n",
    "    def get_tables(self) -> List[str]:\n",
    "        with self.connect() as conn:\n",
    "            cursor = conn.cursor()\n",
    "            cursor.execute(\"SELECT name FROM sqlite_master WHERE type='table'\")\n",
    "            return [table[0] for table in cursor.fetchall()]\n",
    "\n",
    "    def get_chat_history(self, chat_id: int) -> Dict:\n",
    "        with self.connect() as conn:\n",
    "            cursor = conn.cursor()\n",
    "            cursor.execute(\n",
    "                \"SELECT messages FROM chat_histories WHERE id = ?\", \n",
    "                (chat_id,)\n",
    "            )\n",
    "            result = cursor.fetchone()\n",
    "            \n",
    "            if not result:\n",
    "                raise ValueError(f\"Chat ID {chat_id} bulunamadı\")\n",
    "                \n",
    "            return json.loads(result[0])\n",
    "\n",
    "class MessageProcessor:\n",
    "    \n",
    "    @staticmethod\n",
    "    def decode_image(base64_str: str) -> Image.Image:\n",
    "        try:\n",
    "            if ',' in base64_str:\n",
    "                base64_str = base64_str.split(',')[1]\n",
    "            \n",
    "            image_data = base64.b64decode(base64_str)\n",
    "            return Image.open(BytesIO(image_data))\n",
    "        except Exception as e:\n",
    "            print(f\"Görüntü decode hatası: {e}\")\n",
    "            raise\n",
    "\n",
    "    def process_messages(self, messages: List[Dict]) -> Tuple[str, List[Image.Image]]:\n",
    "        text_messages = []\n",
    "        images = []\n",
    "        \n",
    "        for message in messages:\n",
    "            text_messages.append(f\"{message['type']}: {message['content']}\")\n",
    "            \n",
    "            if 'image' in message and message['image']:\n",
    "                try:\n",
    "                    image = self.decode_image(message['image'])\n",
    "                    images.append(image)\n",
    "                except Exception as e:\n",
    "                    print(f\"Görüntü işleme hatası: {e}\")\n",
    "        \n",
    "        return '\\n'.join(text_messages), images\n",
    "\n",
    "def main():\n",
    "    \"\"\"Ana program fonksiyonu.\"\"\"\n",
    "    try:\n",
    "        db = ChatDatabase()\n",
    "        processor = MessageProcessor()\n",
    "        \n",
    "        tables = db.get_tables()\n",
    "        \n",
    "        chat_id = 1\n",
    "        chat_messages = db.get_chat_history(chat_id)\n",
    "        \n",
    "        messages, images = processor.process_messages(chat_messages)\n",
    "        \n",
    "            \n",
    "    except Exception as e:\n",
    "        print(f\"Program hatası: {e}\")\n",
    "        raise\n",
    "\n",
    "if __name__ == \"__main__\":\n",
    "    main()"
   ]
  },
  {
   "cell_type": "code",
   "execution_count": 27,
   "metadata": {},
   "outputs": [
    {
     "ename": "ModuleNotFoundError",
     "evalue": "No module named 'manim_voiceover'",
     "output_type": "error",
     "traceback": [
      "\u001b[1;31m---------------------------------------------------------------------------\u001b[0m",
      "\u001b[1;31mModuleNotFoundError\u001b[0m                       Traceback (most recent call last)",
      "Cell \u001b[1;32mIn[27], line 1\u001b[0m\n\u001b[1;32m----> 1\u001b[0m \u001b[38;5;28;01mfrom\u001b[39;00m \u001b[38;5;21;01mmanim_voiceover\u001b[39;00m \u001b[38;5;28;01mimport\u001b[39;00m VoiceoverScene\n\u001b[0;32m      2\u001b[0m \u001b[38;5;28;01mfrom\u001b[39;00m \u001b[38;5;21;01mmanim_voiceover\u001b[39;00m\u001b[38;5;21;01m.\u001b[39;00m\u001b[38;5;21;01mservices\u001b[39;00m\u001b[38;5;21;01m.\u001b[39;00m\u001b[38;5;21;01mgtts\u001b[39;00m \u001b[38;5;28;01mimport\u001b[39;00m GTTSService  \u001b[38;5;66;03m# Import GTTSService explicitly\u001b[39;00m\n\u001b[0;32m      3\u001b[0m \u001b[38;5;28;01mfrom\u001b[39;00m \u001b[38;5;21;01mmanim\u001b[39;00m \u001b[38;5;28;01mimport\u001b[39;00m \u001b[38;5;241m*\u001b[39m\n",
      "\u001b[1;31mModuleNotFoundError\u001b[0m: No module named 'manim_voiceover'"
     ]
    }
   ],
   "source": []
  },
  {
   "cell_type": "code",
   "execution_count": 1,
   "metadata": {},
   "outputs": [],
   "source": [
    "with open(\"manicode.py\", \"r\", encoding=\"utf-8\") as f:\n",
    "    manim_code=f.read()"
   ]
  },
  {
   "cell_type": "code",
   "execution_count": 2,
   "metadata": {},
   "outputs": [],
   "source": [
    "manim_code=\"\"\"\n",
    "class Solution():\n",
    "    def construct(self):\n",
    "        pass\n",
    "\"\"\""
   ]
  },
  {
   "cell_type": "code",
   "execution_count": 3,
   "metadata": {},
   "outputs": [],
   "source": [
    "exec(manim_code)"
   ]
  },
  {
   "cell_type": "code",
   "execution_count": 4,
   "metadata": {},
   "outputs": [
    {
     "data": {
      "text/plain": [
       "<__main__.Solution at 0x2d79e994410>"
      ]
     },
     "execution_count": 4,
     "metadata": {},
     "output_type": "execute_result"
    }
   ],
   "source": [
    "Solution()"
   ]
  },
  {
   "cell_type": "code",
   "execution_count": null,
   "metadata": {},
   "outputs": [],
   "source": [
    "from manim import *\n",
    "\n",
    "class CreateCircle(Scene):\n",
    "    def construct(self):\n",
    "        circle = Circle()  \n",
    "        circle.set_fill(PINK, opacity=0.5)  \n",
    "        self.play(Create(circle))  \n",
    "\n",
    "\n",
    "config.media_dir =  \"backend\"\n",
    "s = CreateCircle()\n",
    "s.render()"
   ]
  },
  {
   "cell_type": "code",
   "execution_count": 3,
   "metadata": {},
   "outputs": [
    {
     "name": "stdout",
     "output_type": "stream",
     "text": [
      "Tablolar: [('chat_histories',)]\n"
     ]
    }
   ],
   "source": [
    "import sqlite3\n",
    "import pandas as pd\n",
    "\n",
    "import json\n",
    "conn = sqlite3.connect('chat_history.db')\n",
    "\n",
    "tables = conn.execute(\"SELECT name FROM sqlite_master WHERE type='table';\").fetchall()\n",
    "print(\"Tablolar:\", tables)\n",
    "\n",
    "\n",
    "df = pd.read_sql_query(\"SELECT * FROM chat_histories\", conn)\n",
    "\n",
    "\n",
    "conn.close()\n"
   ]
  },
  {
   "cell_type": "code",
   "execution_count": null,
   "metadata": {},
   "outputs": [],
   "source": [
    "df.iloc[0].messages"
   ]
  },
  {
   "cell_type": "code",
   "execution_count": null,
   "metadata": {},
   "outputs": [],
   "source": []
  }
 ],
 "metadata": {
  "kernelspec": {
   "display_name": "Python 3",
   "language": "python",
   "name": "python3"
  },
  "language_info": {
   "codemirror_mode": {
    "name": "ipython",
    "version": 3
   },
   "file_extension": ".py",
   "mimetype": "text/x-python",
   "name": "python",
   "nbconvert_exporter": "python",
   "pygments_lexer": "ipython3",
   "version": "3.11.6"
  }
 },
 "nbformat": 4,
 "nbformat_minor": 2
}
